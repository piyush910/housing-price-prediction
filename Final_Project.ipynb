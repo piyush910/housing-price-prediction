{
 "cells": [
  {
   "cell_type": "code",
   "execution_count": 1,
   "metadata": {},
   "outputs": [],
   "source": [
    "# load libraries\n",
    "import pandas as pd\n",
    "import seaborn as sns\n",
    "import numpy as np\n",
    "import matplotlib.pyplot as plt\n",
    "from sklearn.model_selection import train_test_split,cross_val_score,cross_val_predict,KFold\n",
    "from sklearn.preprocessing import StandardScaler\n",
    "from sklearn.linear_model import LinearRegression,Lasso,Ridge\n",
    "from sklearn.neighbors import KNeighborsRegressor , KNeighborsClassifier\n",
    "from sklearn.tree import DecisionTreeRegressor , DecisionTreeClassifier\n",
    "from sklearn.ensemble import RandomForestRegressor, RandomForestClassifier\n",
    "from sklearn.naive_bayes import GaussianNB\n",
    "from sklearn.svm import SVC\n",
    "from sklearn.cluster import KMeans, DBSCAN, AgglomerativeClustering\n",
    "from scipy.cluster.hierarchy import linkage, fcluster\n",
    "from sklearn import metrics\n",
    "from sklearn.feature_selection import RFE,SelectKBest,f_regression\n",
    "import warnings\n",
    "warnings.filterwarnings('ignore')"
   ]
  },
  {
   "cell_type": "code",
   "execution_count": 2,
   "metadata": {},
   "outputs": [],
   "source": [
    "# Read Dataset\n",
    "kc_data = pd.read_csv('kc_house_data.csv')"
   ]
  },
  {
   "cell_type": "code",
   "execution_count": 3,
   "metadata": {},
   "outputs": [
    {
     "data": {
      "text/html": [
       "<div>\n",
       "<style scoped>\n",
       "    .dataframe tbody tr th:only-of-type {\n",
       "        vertical-align: middle;\n",
       "    }\n",
       "\n",
       "    .dataframe tbody tr th {\n",
       "        vertical-align: top;\n",
       "    }\n",
       "\n",
       "    .dataframe thead th {\n",
       "        text-align: right;\n",
       "    }\n",
       "</style>\n",
       "<table border=\"1\" class=\"dataframe\">\n",
       "  <thead>\n",
       "    <tr style=\"text-align: right;\">\n",
       "      <th></th>\n",
       "      <th>id</th>\n",
       "      <th>date</th>\n",
       "      <th>price</th>\n",
       "      <th>bedrooms</th>\n",
       "      <th>bathrooms</th>\n",
       "      <th>sqft_living</th>\n",
       "      <th>sqft_lot</th>\n",
       "      <th>floors</th>\n",
       "      <th>waterfront</th>\n",
       "      <th>view</th>\n",
       "      <th>...</th>\n",
       "      <th>grade</th>\n",
       "      <th>sqft_above</th>\n",
       "      <th>sqft_basement</th>\n",
       "      <th>yr_built</th>\n",
       "      <th>yr_renovated</th>\n",
       "      <th>zipcode</th>\n",
       "      <th>lat</th>\n",
       "      <th>long</th>\n",
       "      <th>sqft_living15</th>\n",
       "      <th>sqft_lot15</th>\n",
       "    </tr>\n",
       "  </thead>\n",
       "  <tbody>\n",
       "    <tr>\n",
       "      <th>0</th>\n",
       "      <td>7129300520</td>\n",
       "      <td>20141013T000000</td>\n",
       "      <td>221900.0</td>\n",
       "      <td>3</td>\n",
       "      <td>1.00</td>\n",
       "      <td>1180</td>\n",
       "      <td>5650</td>\n",
       "      <td>1.0</td>\n",
       "      <td>0</td>\n",
       "      <td>0</td>\n",
       "      <td>...</td>\n",
       "      <td>7</td>\n",
       "      <td>1180</td>\n",
       "      <td>0</td>\n",
       "      <td>1955</td>\n",
       "      <td>0</td>\n",
       "      <td>98178</td>\n",
       "      <td>47.5112</td>\n",
       "      <td>-122.257</td>\n",
       "      <td>1340</td>\n",
       "      <td>5650</td>\n",
       "    </tr>\n",
       "    <tr>\n",
       "      <th>1</th>\n",
       "      <td>6414100192</td>\n",
       "      <td>20141209T000000</td>\n",
       "      <td>538000.0</td>\n",
       "      <td>3</td>\n",
       "      <td>2.25</td>\n",
       "      <td>2570</td>\n",
       "      <td>7242</td>\n",
       "      <td>2.0</td>\n",
       "      <td>0</td>\n",
       "      <td>0</td>\n",
       "      <td>...</td>\n",
       "      <td>7</td>\n",
       "      <td>2170</td>\n",
       "      <td>400</td>\n",
       "      <td>1951</td>\n",
       "      <td>1991</td>\n",
       "      <td>98125</td>\n",
       "      <td>47.7210</td>\n",
       "      <td>-122.319</td>\n",
       "      <td>1690</td>\n",
       "      <td>7639</td>\n",
       "    </tr>\n",
       "    <tr>\n",
       "      <th>2</th>\n",
       "      <td>5631500400</td>\n",
       "      <td>20150225T000000</td>\n",
       "      <td>180000.0</td>\n",
       "      <td>2</td>\n",
       "      <td>1.00</td>\n",
       "      <td>770</td>\n",
       "      <td>10000</td>\n",
       "      <td>1.0</td>\n",
       "      <td>0</td>\n",
       "      <td>0</td>\n",
       "      <td>...</td>\n",
       "      <td>6</td>\n",
       "      <td>770</td>\n",
       "      <td>0</td>\n",
       "      <td>1933</td>\n",
       "      <td>0</td>\n",
       "      <td>98028</td>\n",
       "      <td>47.7379</td>\n",
       "      <td>-122.233</td>\n",
       "      <td>2720</td>\n",
       "      <td>8062</td>\n",
       "    </tr>\n",
       "    <tr>\n",
       "      <th>3</th>\n",
       "      <td>2487200875</td>\n",
       "      <td>20141209T000000</td>\n",
       "      <td>604000.0</td>\n",
       "      <td>4</td>\n",
       "      <td>3.00</td>\n",
       "      <td>1960</td>\n",
       "      <td>5000</td>\n",
       "      <td>1.0</td>\n",
       "      <td>0</td>\n",
       "      <td>0</td>\n",
       "      <td>...</td>\n",
       "      <td>7</td>\n",
       "      <td>1050</td>\n",
       "      <td>910</td>\n",
       "      <td>1965</td>\n",
       "      <td>0</td>\n",
       "      <td>98136</td>\n",
       "      <td>47.5208</td>\n",
       "      <td>-122.393</td>\n",
       "      <td>1360</td>\n",
       "      <td>5000</td>\n",
       "    </tr>\n",
       "    <tr>\n",
       "      <th>4</th>\n",
       "      <td>1954400510</td>\n",
       "      <td>20150218T000000</td>\n",
       "      <td>510000.0</td>\n",
       "      <td>3</td>\n",
       "      <td>2.00</td>\n",
       "      <td>1680</td>\n",
       "      <td>8080</td>\n",
       "      <td>1.0</td>\n",
       "      <td>0</td>\n",
       "      <td>0</td>\n",
       "      <td>...</td>\n",
       "      <td>8</td>\n",
       "      <td>1680</td>\n",
       "      <td>0</td>\n",
       "      <td>1987</td>\n",
       "      <td>0</td>\n",
       "      <td>98074</td>\n",
       "      <td>47.6168</td>\n",
       "      <td>-122.045</td>\n",
       "      <td>1800</td>\n",
       "      <td>7503</td>\n",
       "    </tr>\n",
       "  </tbody>\n",
       "</table>\n",
       "<p>5 rows × 21 columns</p>\n",
       "</div>"
      ],
      "text/plain": [
       "           id             date     price  bedrooms  bathrooms  sqft_living  \\\n",
       "0  7129300520  20141013T000000  221900.0         3       1.00         1180   \n",
       "1  6414100192  20141209T000000  538000.0         3       2.25         2570   \n",
       "2  5631500400  20150225T000000  180000.0         2       1.00          770   \n",
       "3  2487200875  20141209T000000  604000.0         4       3.00         1960   \n",
       "4  1954400510  20150218T000000  510000.0         3       2.00         1680   \n",
       "\n",
       "   sqft_lot  floors  waterfront  view     ...      grade  sqft_above  \\\n",
       "0      5650     1.0           0     0     ...          7        1180   \n",
       "1      7242     2.0           0     0     ...          7        2170   \n",
       "2     10000     1.0           0     0     ...          6         770   \n",
       "3      5000     1.0           0     0     ...          7        1050   \n",
       "4      8080     1.0           0     0     ...          8        1680   \n",
       "\n",
       "   sqft_basement  yr_built  yr_renovated  zipcode      lat     long  \\\n",
       "0              0      1955             0    98178  47.5112 -122.257   \n",
       "1            400      1951          1991    98125  47.7210 -122.319   \n",
       "2              0      1933             0    98028  47.7379 -122.233   \n",
       "3            910      1965             0    98136  47.5208 -122.393   \n",
       "4              0      1987             0    98074  47.6168 -122.045   \n",
       "\n",
       "   sqft_living15  sqft_lot15  \n",
       "0           1340        5650  \n",
       "1           1690        7639  \n",
       "2           2720        8062  \n",
       "3           1360        5000  \n",
       "4           1800        7503  \n",
       "\n",
       "[5 rows x 21 columns]"
      ]
     },
     "execution_count": 3,
     "metadata": {},
     "output_type": "execute_result"
    }
   ],
   "source": [
    "kc_data.head()"
   ]
  },
  {
   "cell_type": "markdown",
   "metadata": {},
   "source": [
    "## Preprocessing"
   ]
  },
  {
   "cell_type": "code",
   "execution_count": 4,
   "metadata": {},
   "outputs": [],
   "source": [
    "#Change the date format to just the year\n",
    "kc_data['date'] = kc_data['date'].str.slice(0,4)"
   ]
  },
  {
   "cell_type": "code",
   "execution_count": 5,
   "metadata": {},
   "outputs": [
    {
     "name": "stdout",
     "output_type": "stream",
     "text": [
      "<class 'pandas.core.frame.DataFrame'>\n",
      "RangeIndex: 21613 entries, 0 to 21612\n",
      "Data columns (total 21 columns):\n",
      "id               21613 non-null int64\n",
      "date             21613 non-null object\n",
      "price            21613 non-null float64\n",
      "bedrooms         21613 non-null int64\n",
      "bathrooms        21613 non-null float64\n",
      "sqft_living      21613 non-null int64\n",
      "sqft_lot         21613 non-null int64\n",
      "floors           21613 non-null float64\n",
      "waterfront       21613 non-null int64\n",
      "view             21613 non-null int64\n",
      "condition        21613 non-null int64\n",
      "grade            21613 non-null int64\n",
      "sqft_above       21613 non-null int64\n",
      "sqft_basement    21613 non-null int64\n",
      "yr_built         21613 non-null int64\n",
      "yr_renovated     21613 non-null int64\n",
      "zipcode          21613 non-null int64\n",
      "lat              21613 non-null float64\n",
      "long             21613 non-null float64\n",
      "sqft_living15    21613 non-null int64\n",
      "sqft_lot15       21613 non-null int64\n",
      "dtypes: float64(5), int64(15), object(1)\n",
      "memory usage: 3.5+ MB\n"
     ]
    }
   ],
   "source": [
    "kc_data.info()"
   ]
  },
  {
   "cell_type": "code",
   "execution_count": 6,
   "metadata": {},
   "outputs": [],
   "source": [
    "# The dataset contains No Null Values with 5-float,15-int and 1-Object(string) features."
   ]
  },
  {
   "cell_type": "code",
   "execution_count": 7,
   "metadata": {},
   "outputs": [],
   "source": [
    "# Change categorical data to numerical data\n",
    "kc_data = pd.get_dummies(kc_data,drop_first=True)"
   ]
  },
  {
   "cell_type": "code",
   "execution_count": 8,
   "metadata": {},
   "outputs": [
    {
     "data": {
      "text/plain": [
       "(21613, 21)"
      ]
     },
     "execution_count": 8,
     "metadata": {},
     "output_type": "execute_result"
    }
   ],
   "source": [
    "kc_data.shape"
   ]
  },
  {
   "cell_type": "code",
   "execution_count": 9,
   "metadata": {},
   "outputs": [
    {
     "data": {
      "text/plain": [
       "count    2.161300e+04\n",
       "mean     5.400881e+05\n",
       "std      3.671272e+05\n",
       "min      7.500000e+04\n",
       "25%      3.219500e+05\n",
       "50%      4.500000e+05\n",
       "75%      6.450000e+05\n",
       "max      7.700000e+06\n",
       "Name: price, dtype: float64"
      ]
     },
     "execution_count": 9,
     "metadata": {},
     "output_type": "execute_result"
    }
   ],
   "source": [
    "# Price Statistics\n",
    "kc_data['price'].describe()"
   ]
  },
  {
   "cell_type": "code",
   "execution_count": 10,
   "metadata": {},
   "outputs": [
    {
     "data": {
      "image/png": "[encoded data removed]",
      "text/plain": [
       "<Figure size 576x432 with 4 Axes>"
      ]
     },
     "metadata": {
      "needs_background": "light"
     },
     "output_type": "display_data"
    }
   ],
   "source": [
    "fig, axs = plt.subplots(ncols=2,nrows=2,figsize=(8,6))\n",
    "sns.regplot(kc_data['bathrooms'],kc_data['price'],ax=axs[0,0])\n",
    "sns.regplot(kc_data['sqft_living'],kc_data['price'],ax=axs[0,1])\n",
    "sns.regplot(kc_data['sqft_above'],kc_data['price'],ax=axs[1,0])\n",
    "sns.regplot(kc_data['sqft_basement'],kc_data['price'],ax=axs[1,1])\n",
    "plt.tight_layout()"
   ]
  },
  {
   "cell_type": "code",
   "execution_count": 11,
   "metadata": {},
   "outputs": [
    {
     "data": {
      "image/png": "[encoded data removed]",
      "text/plain": [
       "<Figure size 576x432 with 4 Axes>"
      ]
     },
     "metadata": {
      "needs_background": "light"
     },
     "output_type": "display_data"
    }
   ],
   "source": [
    "fig, axs = plt.subplots(ncols=2,nrows=2,figsize=(8,6))\n",
    "sns.barplot(kc_data['grade'],kc_data['price'],ax=axs[0,0])\n",
    "sns.barplot(kc_data['bedrooms'],kc_data['price'],ax=axs[0,1])\n",
    "sns.barplot(kc_data['view'],kc_data['price'],ax=axs[1,0])\n",
    "sns.barplot(kc_data['floors'],kc_data['price'],ax=axs[1,1])\n",
    "plt.tight_layout()"
   ]
  },
  {
   "cell_type": "code",
   "execution_count": 12,
   "metadata": {},
   "outputs": [
    {
     "data": {
      "image/png": "[encoded data removed]",
      "text/plain": [
       "<Figure size 576x432 with 4 Axes>"
      ]
     },
     "metadata": {
      "needs_background": "light"
     },
     "output_type": "display_data"
    }
   ],
   "source": [
    "fig, axs = plt.subplots(ncols=2,nrows=2,figsize=(8,6))\n",
    "sns.barplot(kc_data['waterfront'],kc_data['price'],ax=axs[0,0])\n",
    "sns.regplot(kc_data['sqft_living15'],kc_data['price'],ax=axs[0,1])\n",
    "sns.regplot(kc_data['yr_renovated'],kc_data['price'],ax=axs[1,0])\n",
    "sns.regplot(kc_data['lat'],kc_data['price'],ax=axs[1,1])\n",
    "plt.tight_layout()"
   ]
  },
  {
   "cell_type": "markdown",
   "metadata": {},
   "source": [
    "#### Removing Outlier"
   ]
  },
  {
   "cell_type": "code",
   "execution_count": 13,
   "metadata": {},
   "outputs": [
    {
     "data": {
      "text/html": [
       "<div>\n",
       "<style scoped>\n",
       "    .dataframe tbody tr th:only-of-type {\n",
       "        vertical-align: middle;\n",
       "    }\n",
       "\n",
       "    .dataframe tbody tr th {\n",
       "        vertical-align: top;\n",
       "    }\n",
       "\n",
       "    .dataframe thead th {\n",
       "        text-align: right;\n",
       "    }\n",
       "</style>\n",
       "<table border=\"1\" class=\"dataframe\">\n",
       "  <thead>\n",
       "    <tr style=\"text-align: right;\">\n",
       "      <th></th>\n",
       "      <th>id</th>\n",
       "      <th>price</th>\n",
       "      <th>bedrooms</th>\n",
       "      <th>bathrooms</th>\n",
       "      <th>sqft_living</th>\n",
       "      <th>sqft_lot</th>\n",
       "      <th>floors</th>\n",
       "      <th>waterfront</th>\n",
       "      <th>view</th>\n",
       "      <th>condition</th>\n",
       "      <th>...</th>\n",
       "      <th>sqft_above</th>\n",
       "      <th>sqft_basement</th>\n",
       "      <th>yr_built</th>\n",
       "      <th>yr_renovated</th>\n",
       "      <th>zipcode</th>\n",
       "      <th>lat</th>\n",
       "      <th>long</th>\n",
       "      <th>sqft_living15</th>\n",
       "      <th>sqft_lot15</th>\n",
       "      <th>date_2015</th>\n",
       "    </tr>\n",
       "  </thead>\n",
       "  <tbody>\n",
       "    <tr>\n",
       "      <th>15870</th>\n",
       "      <td>2402100895</td>\n",
       "      <td>640000.0</td>\n",
       "      <td>33</td>\n",
       "      <td>1.75</td>\n",
       "      <td>1620</td>\n",
       "      <td>6000</td>\n",
       "      <td>1.0</td>\n",
       "      <td>0</td>\n",
       "      <td>0</td>\n",
       "      <td>5</td>\n",
       "      <td>...</td>\n",
       "      <td>1040</td>\n",
       "      <td>580</td>\n",
       "      <td>1947</td>\n",
       "      <td>0</td>\n",
       "      <td>98103</td>\n",
       "      <td>47.6878</td>\n",
       "      <td>-122.331</td>\n",
       "      <td>1330</td>\n",
       "      <td>4700</td>\n",
       "      <td>0</td>\n",
       "    </tr>\n",
       "  </tbody>\n",
       "</table>\n",
       "<p>1 rows × 21 columns</p>\n",
       "</div>"
      ],
      "text/plain": [
       "               id     price  bedrooms  bathrooms  sqft_living  sqft_lot  \\\n",
       "15870  2402100895  640000.0        33       1.75         1620      6000   \n",
       "\n",
       "       floors  waterfront  view  condition    ...      sqft_above  \\\n",
       "15870     1.0           0     0          5    ...            1040   \n",
       "\n",
       "       sqft_basement  yr_built  yr_renovated  zipcode      lat     long  \\\n",
       "15870            580      1947             0    98103  47.6878 -122.331   \n",
       "\n",
       "       sqft_living15  sqft_lot15  date_2015  \n",
       "15870           1330        4700          0  \n",
       "\n",
       "[1 rows x 21 columns]"
      ]
     },
     "execution_count": 13,
     "metadata": {},
     "output_type": "execute_result"
    }
   ],
   "source": [
    "kc_data[kc_data['bedrooms']==33]"
   ]
  },
  {
   "cell_type": "code",
   "execution_count": 14,
   "metadata": {},
   "outputs": [],
   "source": [
    "kc_data.drop(15870,inplace=True)"
   ]
  },
  {
   "cell_type": "code",
   "execution_count": 15,
   "metadata": {},
   "outputs": [],
   "source": [
    "kc_features_data =  kc_data.iloc[:,2::]"
   ]
  },
  {
   "cell_type": "markdown",
   "metadata": {},
   "source": [
    "### Using Select K Best"
   ]
  },
  {
   "cell_type": "code",
   "execution_count": 16,
   "metadata": {},
   "outputs": [
    {
     "name": "stdout",
     "output_type": "stream",
     "text": [
      "----------------------Feature Scores-------------------------\n",
      "[2.38792459e+03 8.22897741e+03 2.10023042e+04 1.75144105e+02\n",
      " 1.52585113e+03 1.65040802e+03 4.05040206e+03 2.85696576e+01\n",
      " 1.73610520e+04 1.25150392e+04 2.53131111e+03 6.32524672e+01\n",
      " 3.51075477e+02 6.13561555e+01 2.24862897e+03 1.01217607e+01\n",
      " 1.12668362e+04 1.47914597e+02 2.77706642e-01]\n",
      "-----------------Feature Scores' P-values--------------------\n",
      "[0.00000000e+000 0.00000000e+000 0.00000000e+000 7.95753908e-040\n",
      " 1.48219694e-322 0.00000000e+000 0.00000000e+000 9.13037752e-008\n",
      " 0.00000000e+000 0.00000000e+000 0.00000000e+000 1.90713406e-015\n",
      " 1.02109197e-077 4.98161365e-015 0.00000000e+000 1.46736107e-003\n",
      " 0.00000000e+000 6.39294519e-034 5.98213729e-001]\n"
     ]
    }
   ],
   "source": [
    "selector = SelectKBest(f_regression,k='all').fit(kc_features_data,kc_data['price'])\n",
    "print('----------------------Feature Scores-------------------------')\n",
    "print(selector.scores_)\n",
    "print(\"-----------------Feature Scores' P-values--------------------\")\n",
    "print(selector.pvalues_)"
   ]
  },
  {
   "cell_type": "code",
   "execution_count": 17,
   "metadata": {},
   "outputs": [],
   "source": [
    "feature_scores = list(selector.scores_)"
   ]
  },
  {
   "cell_type": "code",
   "execution_count": 18,
   "metadata": {},
   "outputs": [
    {
     "data": {
      "text/plain": [
       "{'bedrooms': 2387.924592033376,\n",
       " 'bathrooms': 8228.977408041788,\n",
       " 'sqft_living': 21002.304161979228,\n",
       " 'sqft_lot': 175.14410514581112,\n",
       " 'floors': 1525.8511320892253,\n",
       " 'waterfront': 1650.4080187000754,\n",
       " 'view': 4050.4020631302383,\n",
       " 'condition': 28.569657602904527,\n",
       " 'grade': 17361.051981337816,\n",
       " 'sqft_above': 12515.039203719889,\n",
       " 'sqft_basement': 2531.311105277845,\n",
       " 'yr_built': 63.25246722897253,\n",
       " 'yr_renovated': 351.0754774238383,\n",
       " 'zipcode': 61.35615545227162,\n",
       " 'lat': 2248.6289720518616,\n",
       " 'long': 10.121760712054284,\n",
       " 'sqft_living15': 11266.836175928867,\n",
       " 'sqft_lot15': 147.91459734591243,\n",
       " 'date_2015': 0.27770664203841683}"
      ]
     },
     "execution_count": 18,
     "metadata": {},
     "output_type": "execute_result"
    }
   ],
   "source": [
    "# features with corresponding scores\n",
    "feature_names = list(kc_features_data.columns.values)\n",
    "feature_score_dict = dict(zip(feature_names,feature_scores))\n",
    "feature_score_dict"
   ]
  },
  {
   "cell_type": "code",
   "execution_count": 19,
   "metadata": {},
   "outputs": [],
   "source": [
    "# Using Standard Scaler\n",
    "scaler = StandardScaler()"
   ]
  },
  {
   "cell_type": "markdown",
   "metadata": {},
   "source": [
    "#### Train, Test and Validation sets"
   ]
  },
  {
   "cell_type": "code",
   "execution_count": 20,
   "metadata": {},
   "outputs": [],
   "source": [
    "# Train and Test Set\n",
    "x_train,x_test,y_train,y_test = train_test_split(kc_features_data,kc_data['price'],test_size=0.3, random_state = 0)"
   ]
  },
  {
   "cell_type": "code",
   "execution_count": 21,
   "metadata": {},
   "outputs": [],
   "source": [
    "# Training Set variables for fianl Test Dataset\n",
    "X_train = x_train\n",
    "Y_train = y_train"
   ]
  },
  {
   "cell_type": "code",
   "execution_count": 22,
   "metadata": {},
   "outputs": [],
   "source": [
    "# Train and Validataion Set\n",
    "x_train,x_val,y_train,y_val = train_test_split(x_train,y_train,test_size=0.25,random_state=0)"
   ]
  },
  {
   "cell_type": "markdown",
   "metadata": {},
   "source": [
    "### Scaling Data"
   ]
  },
  {
   "cell_type": "code",
   "execution_count": 23,
   "metadata": {},
   "outputs": [],
   "source": [
    "scaled_x_train = scaler.fit_transform(x_train)\n",
    "scaled_x_val = scaler.transform(x_val)"
   ]
  },
  {
   "cell_type": "markdown",
   "metadata": {},
   "source": [
    "# Regression"
   ]
  },
  {
   "cell_type": "markdown",
   "metadata": {},
   "source": [
    "#### Lasso Regression on validation set using all features"
   ]
  },
  {
   "cell_type": "code",
   "execution_count": 24,
   "metadata": {},
   "outputs": [
    {
     "data": {
      "text/plain": [
       "array([-31289.54632804,  31697.79323667, 253778.55641706,   9682.27070882,\n",
       "         4232.61220164,  41123.50953083,  44296.51779865,  17825.19290496,\n",
       "       118918.07953281, -87516.81627851, -61585.81718966, -76449.1733656 ,\n",
       "         6657.76210594, -31293.88296766,  86290.4750918 , -31031.26442046,\n",
       "        14485.17047851, -13478.92660311,  15842.13590976])"
      ]
     },
     "execution_count": 24,
     "metadata": {},
     "output_type": "execute_result"
    }
   ],
   "source": [
    "model = Lasso(random_state=0).fit(X=scaled_x_train,y =y_train)\n",
    "model.coef_"
   ]
  },
  {
   "cell_type": "code",
   "execution_count": 25,
   "metadata": {},
   "outputs": [
    {
     "name": "stdout",
     "output_type": "stream",
     "text": [
      "[0.71873083153697, 0.7173102801810962]\n"
     ]
    }
   ],
   "source": [
    "r_squared = model.score(X=scaled_x_val,y=y_val)\n",
    "adj_r_squared = 1-(((1-r_squared)*(len(x_val)-1))/(len(x_val)-x_val.shape[1]-1))\n",
    "print([r_squared,adj_r_squared])"
   ]
  },
  {
   "cell_type": "markdown",
   "metadata": {},
   "source": [
    "#### Decision Tree Regressor on validation set using all features"
   ]
  },
  {
   "cell_type": "code",
   "execution_count": 26,
   "metadata": {},
   "outputs": [
    {
     "name": "stdout",
     "output_type": "stream",
     "text": [
      "[0.7679809944814076, 0.7668091813222228]\n"
     ]
    }
   ],
   "source": [
    "model = DecisionTreeRegressor(random_state=0).fit(scaled_x_train,y_train)\n",
    "r_squared = model.score(scaled_x_val,y_val)\n",
    "adj_r_squared = 1-(((1-r_squared)*(len(x_val)-1))/(len(x_val)-x_val.shape[1]-1))\n",
    "print([r_squared,adj_r_squared])"
   ]
  },
  {
   "cell_type": "markdown",
   "metadata": {},
   "source": [
    "#### KNN Regressor on validation set using all features"
   ]
  },
  {
   "cell_type": "code",
   "execution_count": 27,
   "metadata": {},
   "outputs": [
    {
     "name": "stdout",
     "output_type": "stream",
     "text": [
      "[0.7898535226855233, 0.7887921768405007]\n"
     ]
    }
   ],
   "source": [
    "model = KNeighborsRegressor(n_neighbors=5).fit(X=scaled_x_train,y =y_train)\n",
    "r_squared = model.score(scaled_x_val,y_val)\n",
    "adj_r_squared = 1-(((1-r_squared)*(len(x_val)-1))/(len(x_val)-x_val.shape[1]-1))\n",
    "print([r_squared,adj_r_squared])"
   ]
  },
  {
   "cell_type": "markdown",
   "metadata": {},
   "source": [
    "#### Multiple Regressor on validation set using all features"
   ]
  },
  {
   "cell_type": "code",
   "execution_count": 28,
   "metadata": {},
   "outputs": [
    {
     "name": "stdout",
     "output_type": "stream",
     "text": [
      "[0.7187306337255207, 0.717310081370599]\n"
     ]
    }
   ],
   "source": [
    "model = LinearRegression().fit(scaled_x_train,y_train)\n",
    "r_squared = model.score(scaled_x_val,y_val)\n",
    "adj_r_squared = 1-(((1-r_squared)*(len(x_val)-1))/(len(x_val)-x_val.shape[1]-1))\n",
    "print([r_squared,adj_r_squared])"
   ]
  },
  {
   "cell_type": "markdown",
   "metadata": {},
   "source": [
    "#### Random Forrest Regressor on validation set using all features"
   ]
  },
  {
   "cell_type": "code",
   "execution_count": 29,
   "metadata": {},
   "outputs": [
    {
     "name": "stdout",
     "output_type": "stream",
     "text": [
      "[0.8747295712047556, 0.8740968922714463]\n"
     ]
    }
   ],
   "source": [
    "model = RandomForestRegressor(random_state=0).fit(scaled_x_train,y_train)\n",
    "r_squared = model.score(scaled_x_val,y_val)\n",
    "adj_r_squared = 1-(((1-r_squared)*(len(x_val)-1))/(len(x_val)-x_val.shape[1]-1))\n",
    "print([r_squared,adj_r_squared])"
   ]
  },
  {
   "cell_type": "markdown",
   "metadata": {},
   "source": [
    "### Random Forrest Regressor on Test set using all features"
   ]
  },
  {
   "cell_type": "code",
   "execution_count": 30,
   "metadata": {},
   "outputs": [],
   "source": [
    "scaled_X_train = scaler.fit_transform(X_train)\n",
    "scaled_x_test = scaler.transform(x_test)"
   ]
  },
  {
   "cell_type": "code",
   "execution_count": 31,
   "metadata": {},
   "outputs": [
    {
     "name": "stdout",
     "output_type": "stream",
     "text": [
      "[0.8620663073340553, 0.8613696725226112]\n"
     ]
    }
   ],
   "source": [
    "model = RandomForestRegressor(random_state=0).fit(scaled_X_train,Y_train)\n",
    "r_squared = model.score(scaled_x_test,y_test)\n",
    "adj_r_squared = 1-(((1-r_squared)*(len(x_val)-1))/(len(x_val)-x_val.shape[1]-1))\n",
    "print([r_squared,adj_r_squared])"
   ]
  },
  {
   "cell_type": "code",
   "execution_count": 32,
   "metadata": {},
   "outputs": [],
   "source": [
    "# List of Important Features\n",
    "imp_features = ['bedrooms',\n",
    " 'bathrooms',\n",
    " 'sqft_living',\n",
    " 'floors',\n",
    " 'waterfront',\n",
    " 'view',\n",
    " 'grade',\n",
    " 'sqft_above',\n",
    " 'sqft_basement',\n",
    " 'yr_renovated',\n",
    " 'lat',\n",
    " 'sqft_living15']"
   ]
  },
  {
   "cell_type": "code",
   "execution_count": 33,
   "metadata": {},
   "outputs": [],
   "source": [
    "# Dataset with important features\n",
    "x_train = x_train[imp_features]\n",
    "x_val = x_val[imp_features]"
   ]
  },
  {
   "cell_type": "code",
   "execution_count": 34,
   "metadata": {},
   "outputs": [],
   "source": [
    "# Scaling Important Feature Dataset\n",
    "scaled_x_train = scaler.fit_transform(x_train)\n",
    "scaled_x_val = scaler.transform(x_val)"
   ]
  },
  {
   "cell_type": "markdown",
   "metadata": {},
   "source": [
    "#### Random Forrest Regressor on validation set using Important Features"
   ]
  },
  {
   "cell_type": "code",
   "execution_count": 35,
   "metadata": {},
   "outputs": [
    {
     "name": "stdout",
     "output_type": "stream",
     "text": [
      "[0.804736200215252, 0.8041145059734327]\n"
     ]
    }
   ],
   "source": [
    "model = RandomForestRegressor(random_state=0).fit(scaled_x_train,y_train)\n",
    "r_squared = model.score(scaled_x_val,y_val)\n",
    "adj_r_squared = 1-(((1-r_squared)*(len(x_val)-1))/(len(x_val)-x_val.shape[1]-1))\n",
    "print([r_squared,adj_r_squared])"
   ]
  },
  {
   "cell_type": "markdown",
   "metadata": {},
   "source": [
    "#### Lasso Regression on validation set using Important features"
   ]
  },
  {
   "cell_type": "code",
   "execution_count": 36,
   "metadata": {},
   "outputs": [
    {
     "data": {
      "text/plain": [
       "array([-21913.965385  ,  -4369.31651333, 232582.54498758, -15326.84554603,\n",
       "        40579.42485187,  53978.9532339 , 104170.34291362, -60027.06075497,\n",
       "       -33849.13815948,  21395.79212208,  93495.40846978,   4537.1784843 ])"
      ]
     },
     "execution_count": 36,
     "metadata": {},
     "output_type": "execute_result"
    }
   ],
   "source": [
    "model = Lasso(alpha=10,random_state=0).fit(X=scaled_x_train,y =y_train)\n",
    "model.coef_"
   ]
  },
  {
   "cell_type": "code",
   "execution_count": 37,
   "metadata": {},
   "outputs": [
    {
     "name": "stdout",
     "output_type": "stream",
     "text": [
      "[0.683640999182128, 0.6826337537563347]\n"
     ]
    }
   ],
   "source": [
    "r_squared = model.score(X=scaled_x_val,y=y_val)\n",
    "adj_r_squared = 1-(((1-r_squared)*(len(x_val)-1))/(len(x_val)-x_val.shape[1]-1))\n",
    "print([r_squared,adj_r_squared])"
   ]
  },
  {
   "cell_type": "markdown",
   "metadata": {},
   "source": [
    "#### Decision Tree Regressor on validation set using Important features"
   ]
  },
  {
   "cell_type": "code",
   "execution_count": 38,
   "metadata": {},
   "outputs": [
    {
     "name": "stdout",
     "output_type": "stream",
     "text": [
      "[0.6023396600684414, 0.6010735618781579]\n"
     ]
    }
   ],
   "source": [
    "model = DecisionTreeRegressor(random_state=0).fit(scaled_x_train,y_train)\n",
    "r_squared = model.score(scaled_x_val,y_val)\n",
    "adj_r_squared = 1-(((1-r_squared)*(len(x_val)-1))/(len(x_val)-x_val.shape[1]-1))\n",
    "print([r_squared,adj_r_squared])"
   ]
  },
  {
   "cell_type": "markdown",
   "metadata": {},
   "source": [
    "#### KNN Regressor on validation set using Important features"
   ]
  },
  {
   "cell_type": "code",
   "execution_count": 39,
   "metadata": {},
   "outputs": [
    {
     "name": "stdout",
     "output_type": "stream",
     "text": [
      "[0.7648410447043974, 0.7640923295376298]\n"
     ]
    }
   ],
   "source": [
    "model = KNeighborsRegressor(n_neighbors=5).fit(X=scaled_x_train,y =y_train)\n",
    "r_squared = model.score(scaled_x_val,y_val)\n",
    "adj_r_squared = 1-(((1-r_squared)*(len(x_val)-1))/(len(x_val)-x_val.shape[1]-1))\n",
    "print([r_squared,adj_r_squared])"
   ]
  },
  {
   "cell_type": "markdown",
   "metadata": {},
   "source": [
    "#### Multiple Regressor on validation set using Important features"
   ]
  },
  {
   "cell_type": "code",
   "execution_count": 40,
   "metadata": {},
   "outputs": [
    {
     "name": "stdout",
     "output_type": "stream",
     "text": [
      "[0.6836439383426598, 0.682636702274767]\n"
     ]
    }
   ],
   "source": [
    "model = LinearRegression().fit(scaled_x_train,y_train)\n",
    "r_squared = model.score(scaled_x_val,y_val)\n",
    "adj_r_squared = 1-(((1-r_squared)*(len(x_val)-1))/(len(x_val)-x_val.shape[1]-1))\n",
    "print([r_squared,adj_r_squared])"
   ]
  },
  {
   "cell_type": "code",
   "execution_count": 41,
   "metadata": {},
   "outputs": [],
   "source": [
    "# Final Train and Test dataset with Important Features\n",
    "X_train = X_train[imp_features]\n",
    "x_test = x_test[imp_features]\n",
    "scaled_X_train = scaler.fit_transform(X_train)\n",
    "scaled_x_test = scaler.transform(x_test)"
   ]
  },
  {
   "cell_type": "markdown",
   "metadata": {},
   "source": [
    "### Random Forrest Regressor on Test set with Important Features"
   ]
  },
  {
   "cell_type": "code",
   "execution_count": 42,
   "metadata": {},
   "outputs": [
    {
     "name": "stdout",
     "output_type": "stream",
     "text": [
      "[0.7827997393361792, 0.7821082022897569]\n"
     ]
    }
   ],
   "source": [
    "model = RandomForestRegressor(random_state=0).fit(scaled_X_train,Y_train)\n",
    "r_squared = model.score(scaled_x_test,y_test)\n",
    "adj_r_squared = 1-(((1-r_squared)*(len(x_val)-1))/(len(x_val)-x_val.shape[1]-1))\n",
    "print([r_squared,adj_r_squared])"
   ]
  },
  {
   "cell_type": "code",
   "execution_count": 43,
   "metadata": {},
   "outputs": [
    {
     "name": "stdout",
     "output_type": "stream",
     "text": [
      "[0.7398236661213362, 0.7389952989134445]\n"
     ]
    }
   ],
   "source": [
    "model = KNeighborsRegressor(n_neighbors=5).fit(X=scaled_X_train,y =Y_train)\n",
    "r_squared = model.score(scaled_x_test,y_test)\n",
    "adj_r_squared = 1-(((1-r_squared)*(len(x_val)-1))/(len(x_val)-x_val.shape[1]-1))\n",
    "print([r_squared,adj_r_squared])"
   ]
  },
  {
   "cell_type": "markdown",
   "metadata": {},
   "source": [
    "# Clustering"
   ]
  },
  {
   "cell_type": "markdown",
   "metadata": {},
   "source": [
    "### (Clustering House Prices based on price)"
   ]
  },
  {
   "cell_type": "markdown",
   "metadata": {},
   "source": [
    "#### K-Means CLustering"
   ]
  },
  {
   "cell_type": "code",
   "execution_count": 44,
   "metadata": {},
   "outputs": [],
   "source": [
    "scaled_x_train = scaler.fit_transform(kc_data[imp_features])"
   ]
  },
  {
   "cell_type": "code",
   "execution_count": 45,
   "metadata": {},
   "outputs": [],
   "source": [
    "clustering = KMeans(n_clusters=6 ,init='random',random_state=0).fit(scaled_x_train)\n",
    "clusters = clustering.labels_"
   ]
  },
  {
   "cell_type": "code",
   "execution_count": 46,
   "metadata": {},
   "outputs": [],
   "source": [
    "kc_data['k-means_cluster_labels'] = clusters"
   ]
  },
  {
   "cell_type": "markdown",
   "metadata": {},
   "source": [
    "#### Ward's Linkage"
   ]
  },
  {
   "cell_type": "code",
   "execution_count": 47,
   "metadata": {},
   "outputs": [],
   "source": [
    "clustering = AgglomerativeClustering(n_clusters=6,linkage='ward').fit(scaled_x_train)"
   ]
  },
  {
   "cell_type": "code",
   "execution_count": 48,
   "metadata": {},
   "outputs": [],
   "source": [
    "clusters = clustering.labels_"
   ]
  },
  {
   "cell_type": "code",
   "execution_count": 49,
   "metadata": {},
   "outputs": [],
   "source": [
    "kc_data['ward_cluster_labels'] = clusters"
   ]
  },
  {
   "cell_type": "markdown",
   "metadata": {},
   "source": [
    "# Price Map"
   ]
  },
  {
   "cell_type": "code",
   "execution_count": 50,
   "metadata": {},
   "outputs": [],
   "source": [
    "map_data = kc_data[['lat','long','price','k-means_cluster_labels','ward_cluster_labels']]"
   ]
  },
  {
   "cell_type": "code",
   "execution_count": 51,
   "metadata": {},
   "outputs": [
    {
     "data": {
      "text/html": [
       "<div>\n",
       "<style scoped>\n",
       "    .dataframe tbody tr th:only-of-type {\n",
       "        vertical-align: middle;\n",
       "    }\n",
       "\n",
       "    .dataframe tbody tr th {\n",
       "        vertical-align: top;\n",
       "    }\n",
       "\n",
       "    .dataframe thead th {\n",
       "        text-align: right;\n",
       "    }\n",
       "</style>\n",
       "<table border=\"1\" class=\"dataframe\">\n",
       "  <thead>\n",
       "    <tr style=\"text-align: right;\">\n",
       "      <th></th>\n",
       "      <th>lat</th>\n",
       "      <th>long</th>\n",
       "      <th>price</th>\n",
       "      <th>k-means_cluster_labels</th>\n",
       "      <th>ward_cluster_labels</th>\n",
       "    </tr>\n",
       "  </thead>\n",
       "  <tbody>\n",
       "    <tr>\n",
       "      <th>0</th>\n",
       "      <td>47.5112</td>\n",
       "      <td>-122.257</td>\n",
       "      <td>221900.0</td>\n",
       "      <td>1</td>\n",
       "      <td>4</td>\n",
       "    </tr>\n",
       "    <tr>\n",
       "      <th>1</th>\n",
       "      <td>47.7210</td>\n",
       "      <td>-122.319</td>\n",
       "      <td>538000.0</td>\n",
       "      <td>2</td>\n",
       "      <td>3</td>\n",
       "    </tr>\n",
       "    <tr>\n",
       "      <th>2</th>\n",
       "      <td>47.7379</td>\n",
       "      <td>-122.233</td>\n",
       "      <td>180000.0</td>\n",
       "      <td>1</td>\n",
       "      <td>4</td>\n",
       "    </tr>\n",
       "    <tr>\n",
       "      <th>3</th>\n",
       "      <td>47.5208</td>\n",
       "      <td>-122.393</td>\n",
       "      <td>604000.0</td>\n",
       "      <td>5</td>\n",
       "      <td>0</td>\n",
       "    </tr>\n",
       "    <tr>\n",
       "      <th>4</th>\n",
       "      <td>47.6168</td>\n",
       "      <td>-122.045</td>\n",
       "      <td>510000.0</td>\n",
       "      <td>1</td>\n",
       "      <td>4</td>\n",
       "    </tr>\n",
       "  </tbody>\n",
       "</table>\n",
       "</div>"
      ],
      "text/plain": [
       "       lat     long     price  k-means_cluster_labels  ward_cluster_labels\n",
       "0  47.5112 -122.257  221900.0                       1                    4\n",
       "1  47.7210 -122.319  538000.0                       2                    3\n",
       "2  47.7379 -122.233  180000.0                       1                    4\n",
       "3  47.5208 -122.393  604000.0                       5                    0\n",
       "4  47.6168 -122.045  510000.0                       1                    4"
      ]
     },
     "execution_count": 51,
     "metadata": {},
     "output_type": "execute_result"
    }
   ],
   "source": [
    "map_data.head()"
   ]
  },
  {
   "cell_type": "markdown",
   "metadata": {},
   "source": [
    "### Custom Price Range Clustering Map"
   ]
  },
  {
   "cell_type": "code",
   "execution_count": 52,
   "metadata": {},
   "outputs": [],
   "source": [
    "# Give colors to different price ranges\n",
    "map_data['color_price'] = '#de2d26' # Default Color Initialization\n",
    "map_data['color_price'][map_data['price']>5000000] = '#de2d26' # dark red\n",
    "map_data['color_price'][(map_data['price']>=3000000) & (map_data['price']<5000000)] = '#f03b20' #light red\n",
    "map_data['color_price'][(map_data['price']>=1000000) & (map_data['price']<3000000)] = '#feb24c' #Yellow\n",
    "map_data['color_price'][(map_data['price']>=500000) & (map_data['price']<1000000)] = '#31a354' # Green\n",
    "map_data['color_price'][(map_data['price']>=250000) & (map_data['price']<500000)] = '#2b8cbe' # Blue\n",
    "map_data['color_price'][(map_data['price']<250000)] = '#7fcdbb'    # light blue"
   ]
  },
  {
   "cell_type": "code",
   "execution_count": 53,
   "metadata": {},
   "outputs": [],
   "source": [
    "map_data.sort_values(by= 'price',ascending=False,inplace=True)"
   ]
  },
  {
   "cell_type": "code",
   "execution_count": 54,
   "metadata": {},
   "outputs": [
    {
     "name": "stderr",
     "output_type": "stream",
     "text": [
      "C:\\Users\\aayus\\Anaconda3\\lib\\site-packages\\plotly\\graph_objs\\_deprecations.py:39: DeprecationWarning:\n",
      "\n",
      "plotly.graph_objs.Data is deprecated.\n",
      "Please replace it with a list or tuple of instances of the following types\n",
      "  - plotly.graph_objs.Scatter\n",
      "  - plotly.graph_objs.Bar\n",
      "  - plotly.graph_objs.Area\n",
      "  - plotly.graph_objs.Histogram\n",
      "  - etc.\n",
      "\n",
      "\n"
     ]
    },
    {
     "data": {
      "text/html": [
       "<iframe id=\"igraph\" scrolling=\"no\" style=\"border:none;\" seamless=\"seamless\" src=\"https://plot.ly/~adarshjv20/187.embed\" height=\"525px\" width=\"100%\"></iframe>"
      ],
      "text/plain": [
       "<plotly.tools.PlotlyDisplay object>"
      ]
     },
     "execution_count": 54,
     "metadata": {},
     "output_type": "execute_result"
    }
   ],
   "source": [
    "import plotly.plotly as py\n",
    "import plotly\n",
    "from plotly.graph_objs import *\n",
    "py.sign_in(username='adarshjv20', api_key='VhR37dcVwvfCYHbv3qO0')\n",
    "trace_1 = {\n",
    "    \"hoverinfo\" : \"skip\",\n",
    "    \"lat\" : list(map_data['lat']),\n",
    "    \"lon\" : list(map_data['long']),\n",
    "    \"marker\": {\n",
    "        \"color\": list(map_data['color_price']),\n",
    "        \"opacity\": 1, \n",
    "        \"size\": 4\n",
    "    },\n",
    "    \"mode\": \"markers\", \n",
    "    \"showlegend\": False, \n",
    "    \"type\": \"scattermapbox\" \n",
    "}\n",
    "data = Data([trace_1])\n",
    "layout = {\n",
    "  \"autosize\": True, \n",
    "  \"hovermode\": \"closest\", \n",
    "  \"mapbox\": {\n",
    "    \"bearing\": 0, \n",
    "    \"center\": {\n",
    "      \"lat\": 47.6, \n",
    "      \"lon\": -122.2\n",
    "    }, \n",
    "    \"pitch\": 0, \n",
    "    \"style\":'light',\n",
    "    \"zoom\": 9\n",
    "  }, \n",
    "  \"title\": \"House prices in King County (Custom Price Clustering)\"\n",
    "}\n",
    "fig = Figure(data=data, layout=layout)\n",
    "py.iplot(fig)"
   ]
  },
  {
   "cell_type": "markdown",
   "metadata": {},
   "source": [
    "### K-Means Cluster Map for Different Prices"
   ]
  },
  {
   "cell_type": "code",
   "execution_count": 55,
   "metadata": {},
   "outputs": [],
   "source": [
    "map_data['color_cluster'] = '#de2d26' # Default Color Initialization\n",
    "map_data['color_cluster'][map_data['k-means_cluster_labels']==0] = '#de2d26' # dark red\n",
    "map_data['color_cluster'][map_data['k-means_cluster_labels']==1] = '#2b8cbe' # dark Blue\n",
    "map_data['color_cluster'][map_data['k-means_cluster_labels']==2] = '#feb24c' #Yellow\n",
    "map_data['color_cluster'][map_data['k-means_cluster_labels']==3] = '#7fcdbb' # light blue\n",
    "map_data['color_cluster'][map_data['k-means_cluster_labels']==4] = '#f03b20' #light red\n",
    "map_data['color_cluster'][map_data['k-means_cluster_labels']==5] = '#31a354' # Green"
   ]
  },
  {
   "cell_type": "code",
   "execution_count": 56,
   "metadata": {},
   "outputs": [
    {
     "data": {
      "text/html": [
       "<iframe id=\"igraph\" scrolling=\"no\" style=\"border:none;\" seamless=\"seamless\" src=\"https://plot.ly/~adarshjv20/189.embed\" height=\"525px\" width=\"100%\"></iframe>"
      ],
      "text/plain": [
       "<plotly.tools.PlotlyDisplay object>"
      ]
     },
     "execution_count": 56,
     "metadata": {},
     "output_type": "execute_result"
    }
   ],
   "source": [
    "import plotly.plotly as py\n",
    "import plotly\n",
    "from plotly.graph_objs import *\n",
    "py.sign_in(username='adarshjv20', api_key='VhR37dcVwvfCYHbv3qO0')\n",
    "trace_1 = {\n",
    "    \"hoverinfo\" : \"skip\",\n",
    "    \"lat\" : list(map_data['lat']),\n",
    "    \"lon\" : list(map_data['long']),\n",
    "    \"marker\": {\n",
    "        \"color\": list(map_data['color_cluster']),\n",
    "        \"opacity\": 1, \n",
    "        \"size\": 4\n",
    "    },\n",
    "    \"mode\": \"markers\", \n",
    "    \"showlegend\": False, \n",
    "    \"type\": \"scattermapbox\" \n",
    "}\n",
    "data = Data([trace_1])\n",
    "layout = {\n",
    "  \"autosize\": True, \n",
    "  \"hovermode\": \"closest\", \n",
    "  \"mapbox\": {\n",
    "    \"bearing\": 0, \n",
    "    \"center\": {\n",
    "      \"lat\": 47.6, \n",
    "      \"lon\": -122.2\n",
    "    }, \n",
    "    \"pitch\": 0, \n",
    "    \"style\":'light',\n",
    "    \"zoom\": 9\n",
    "  }, \n",
    "  \"title\": \"House prices in King County (K-Means) Clsutering\"\n",
    "}\n",
    "fig = Figure(data=data, layout=layout)\n",
    "py.iplot(fig)"
   ]
  },
  {
   "cell_type": "code",
   "execution_count": 57,
   "metadata": {},
   "outputs": [],
   "source": [
    "map_data['ward_color_cluster'] = '#de2d26' # Default Color Initialization\n",
    "map_data['ward_color_cluster'][map_data['ward_cluster_labels']==0] = '#31a354' # Green \n",
    "map_data['ward_color_cluster'][map_data['ward_cluster_labels']==1] = '#feb24c' #Yellow\n",
    "map_data['ward_color_cluster'][map_data['ward_cluster_labels']==2] = '#de2d26' # dark red \n",
    "map_data['ward_color_cluster'][map_data['ward_cluster_labels']==3] = '#7fcdbb' # light blue\n",
    "map_data['ward_color_cluster'][map_data['ward_cluster_labels']==4] = '#2b8cbe' #  dark Blue\n",
    "map_data['ward_color_cluster'][map_data['ward_cluster_labels']==5] =  '#f03b20' #light red"
   ]
  },
  {
   "cell_type": "code",
   "execution_count": 58,
   "metadata": {},
   "outputs": [
    {
     "data": {
      "text/html": [
       "<iframe id=\"igraph\" scrolling=\"no\" style=\"border:none;\" seamless=\"seamless\" src=\"https://plot.ly/~adarshjv20/191.embed\" height=\"525px\" width=\"100%\"></iframe>"
      ],
      "text/plain": [
       "<plotly.tools.PlotlyDisplay object>"
      ]
     },
     "execution_count": 58,
     "metadata": {},
     "output_type": "execute_result"
    }
   ],
   "source": [
    "import plotly.plotly as py\n",
    "import plotly\n",
    "from plotly.graph_objs import *\n",
    "py.sign_in(username='adarshjv20', api_key='VhR37dcVwvfCYHbv3qO0')\n",
    "trace_1 = {\n",
    "    \"hoverinfo\" : \"skip\",\n",
    "    \"lat\" : list(map_data['lat']),\n",
    "    \"lon\" : list(map_data['long']),\n",
    "    \"marker\": {\n",
    "        \"color\": list(map_data['ward_color_cluster']),\n",
    "        \"opacity\": 1, \n",
    "        \"size\": 4\n",
    "    },\n",
    "    \"mode\": \"markers\", \n",
    "    \"showlegend\": False, \n",
    "    \"type\": \"scattermapbox\" \n",
    "}\n",
    "data = Data([trace_1])\n",
    "layout = {\n",
    "  \"autosize\": True, \n",
    "  \"hovermode\": \"closest\", \n",
    "  \"mapbox\": {\n",
    "    \"bearing\": 0, \n",
    "    \"center\": {\n",
    "      \"lat\": 47.6, \n",
    "      \"lon\": -122.2\n",
    "    }, \n",
    "    \"pitch\": 0, \n",
    "    \"style\":'light',\n",
    "    \"zoom\": 9\n",
    "  }, \n",
    "  \"title\": \"House prices in King County (Ward's Linkage) Clsutering\"\n",
    "}\n",
    "fig = Figure(data=data, layout=layout)\n",
    "py.iplot(fig)"
   ]
  }
 ],
 "metadata": {
  "kernelspec": {
   "display_name": "Python 3",
   "language": "python",
   "name": "python3"
  },
  "language_info": {
   "codemirror_mode": {
    "name": "ipython",
    "version": 3
   },
   "file_extension": ".py",
   "mimetype": "text/x-python",
   "name": "python",
   "nbconvert_exporter": "python",
   "pygments_lexer": "ipython3",
   "version": "3.6.7"
  }
 },
 "nbformat": 4,
 "nbformat_minor": 2
}
